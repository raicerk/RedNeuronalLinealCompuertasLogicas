{
 "cells": [
  {
   "cell_type": "code",
   "execution_count": null,
   "id": "d5a1f8a7",
   "metadata": {},
   "outputs": [],
   "source": [
    "import numpy as np\n",
    "from keras.models import Sequential\n",
    "from keras.layers.core import Dense\n",
    "import matplotlib.pyplot as plt"
   ]
  },
  {
   "cell_type": "code",
   "execution_count": null,
   "id": "6587c228",
   "metadata": {},
   "outputs": [],
   "source": [
    "# cargamos las 4 combinaciones de las compuertas XOR\n",
    "training_data = np.array([[0, 0], [0, 1], [1, 0], [1, 1]], \"float32\")"
   ]
  },
  {
   "cell_type": "code",
   "execution_count": null,
   "id": "55376a4f",
   "metadata": {},
   "outputs": [],
   "source": [
    "# y estos son los resultados que se obtienen, en el mismo orden\n",
    "target_data = np.array([[0], [1], [1], [0]], \"float32\")"
   ]
  },
  {
   "cell_type": "code",
   "execution_count": null,
   "id": "fcd260c3",
   "metadata": {},
   "outputs": [],
   "source": [
    "model = Sequential()\n",
    "model.add(Dense(16, input_dim=2, activation='relu'))\n",
    "model.add(Dense(1, activation='sigmoid'))"
   ]
  },
  {
   "cell_type": "code",
   "execution_count": null,
   "id": "f64b22c3",
   "metadata": {},
   "outputs": [],
   "source": [
    "model.compile(loss='mean_squared_error', optimizer='adam', metrics=['binary_accuracy'])"
   ]
  },
  {
   "cell_type": "code",
   "execution_count": null,
   "id": "c665fcb8",
   "metadata": {},
   "outputs": [],
   "source": [
    "history = model.fit(training_data, target_data, epochs=1000)"
   ]
  },
  {
   "cell_type": "code",
   "execution_count": null,
   "id": "9b3f9432",
   "metadata": {},
   "outputs": [],
   "source": [
    "plt.figure()\n",
    "plt.xlabel(\"# Epoca\")\n",
    "plt.ylabel(\"Magnitud de pérdida\")\n",
    "plt.plot(history.history[\"loss\"])\n",
    "plt.legend()\n",
    "\n",
    "plt.show()"
   ]
  },
  {
   "cell_type": "code",
   "execution_count": null,
   "id": "c30153cd",
   "metadata": {},
   "outputs": [],
   "source": [
    "data_test = np.array([[1, 0], [1, 1], [0, 0], [0, 1]], \"float32\")\n",
    "# evaluamos el modelo\n",
    "scores = model.evaluate(data_test, target_data)\n",
    "print(\"\\n%s: %.2f%%\" % (model.metrics_names[1], scores[1]*100))\n",
    "print(model.predict(data_test).round())"
   ]
  },
  {
   "cell_type": "code",
   "execution_count": null,
   "id": "895e3176",
   "metadata": {},
   "outputs": [],
   "source": []
  }
 ],
 "metadata": {
  "kernelspec": {
   "display_name": "Python 3 (ipykernel)",
   "language": "python",
   "name": "python3"
  },
  "language_info": {
   "codemirror_mode": {
    "name": "ipython",
    "version": 3
   },
   "file_extension": ".py",
   "mimetype": "text/x-python",
   "name": "python",
   "nbconvert_exporter": "python",
   "pygments_lexer": "ipython3",
   "version": "3.9.7"
  }
 },
 "nbformat": 4,
 "nbformat_minor": 5
}
